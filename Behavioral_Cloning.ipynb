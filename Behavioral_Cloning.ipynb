{
 "cells": [
  {
   "cell_type": "markdown",
   "metadata": {
    "collapsed": true
   },
   "source": [
    "# Behavioral Cloning-Project"
   ]
  },
  {
   "cell_type": "code",
   "execution_count": 1,
   "metadata": {},
   "outputs": [
    {
     "name": "stdout",
     "output_type": "stream",
     "text": [
      "Center image    D:\\Simulation_Data\\Complete\\IMG\\center_2018_10...\n",
      "Left image      D:\\Simulation_Data\\Complete\\IMG\\left_2018_10_2...\n",
      "Right image     D:\\Simulation_Data\\Complete\\IMG\\right_2018_10_...\n",
      "Steering                                                -0.122066\n",
      "Name: 5, dtype: object\n"
     ]
    }
   ],
   "source": [
    "import os\n",
    "import pandas as pd\n",
    "import numpy as np\n",
    "import sklearn\n",
    "import cv2\n",
    "\n",
    "data_dir = os.path.join('D:', 'Simulation_Data', 'Complete')\n",
    "log_csv = os.path.join(data_dir, 'driving_log.csv')\n",
    "\n",
    "images_df = pd.read_csv(log_csv, \n",
    "                        names=['Center image', 'Left image', 'Right image', 'Steering', 'Throttle', 'Brake', 'Speed'], \n",
    "                        usecols=['Center image', 'Left image', 'Right image', 'Steering'])\n",
    "\n",
    "print(images_df.loc[5])"
   ]
  },
  {
   "cell_type": "code",
   "execution_count": 2,
   "metadata": {},
   "outputs": [],
   "source": [
    "from sklearn.model_selection import train_test_split\n",
    "from random import shuffle\n",
    "\n",
    "# Create training and validation dataset\n",
    "train_samples, validation_samples = train_test_split(images_df, test_size=0.2)\n",
    "\n",
    "def ImageBatchGenerator(samples, batch_size=32):\n",
    "    num_samples = len(samples)\n",
    "    while 1:\n",
    "        shuffle(samples)\n",
    "        for offset in range(0, num_samples, batch_size):\n",
    "            batch_samples = samples[offset:offset+batch_size]\n",
    "\n",
    "            images = []\n",
    "            angles = []\n",
    "            for batch_sample in batch_samples:\n",
    "                center_image_name, left_image_name, right_image_name, steering = batch_sample[0:4]\n",
    "                \n",
    "                center_image = cv2.imread(center_image_name)\n",
    "                images.append(center_image)\n",
    "                angles.append(steering)\n",
    "\n",
    "            # trim image to only see section with road\n",
    "            X_train = np.array(images)\n",
    "            y_train = np.array(angles)\n",
    "            yield sklearn.utils.shuffle(X_train, y_train)\n",
    "            \n",
    "train_generator = ImageBatchGenerator(train_samples.values)\n",
    "validation_generator = ImageBatchGenerator(validation_samples.values)"
   ]
  },
  {
   "cell_type": "markdown",
   "metadata": {},
   "source": [
    "## PilotNet model"
   ]
  },
  {
   "cell_type": "code",
   "execution_count": null,
   "metadata": {
    "scrolled": false
   },
   "outputs": [
    {
     "name": "stderr",
     "output_type": "stream",
     "text": [
      "C:\\Users\\bjoer\\Anaconda3\\lib\\site-packages\\h5py\\__init__.py:36: FutureWarning: Conversion of the second argument of issubdtype from `float` to `np.floating` is deprecated. In future, it will be treated as `np.float64 == np.dtype(float).type`.\n",
      "  from ._conv import register_converters as _register_converters\n",
      "Using TensorFlow backend.\n",
      "C:\\Users\\bjoer\\Anaconda3\\lib\\site-packages\\ipykernel_launcher.py:22: UserWarning: Update your `Model` call to the Keras 2 API: `Model(inputs=Tensor(\"in..., outputs=Tensor(\"de...)`\n"
     ]
    }
   ],
   "source": [
    "from keras.models import Model\n",
    "from keras.layers import Input, Lambda, Dense, Flatten, Cropping2D, Conv2D\n",
    "from keras.callbacks import ModelCheckpoint, EarlyStopping, TensorBoard\n",
    "\n",
    "img_width = 320\n",
    "img_height = 160\n",
    "\n",
    "input = Input(shape=(img_height, img_width, 3))\n",
    "x = Lambda(lambda x: x/255.0-0.5)(input)\n",
    "x = Cropping2D(cropping=((70, 25), (0, 0)))(x)\n",
    "x = Conv2D(24, (5, 5), strides=(2, 2), activation='relu')(x)\n",
    "x = Conv2D(36, (5, 5), strides=(2, 2), activation='relu')(x)\n",
    "x = Conv2D(48, (5, 5), strides=(2, 2), activation='relu')(x)\n",
    "x = Conv2D(64, (3, 3), activation='relu')(x)\n",
    "x = Conv2D(64, (3, 3), activation='relu')(x)\n",
    "x = Flatten()(x)\n",
    "x = Dense(100)(x)\n",
    "x = Dense(50)(x)\n",
    "x = Dense(10)(x)\n",
    "x = Dense(1)(x)\n",
    "\n",
    "model = Model(input=input, output=x)\n",
    "model.compile(loss='mse', optimizer='Nadam')\n",
    "\n",
    "tensorboard = TensorBoard(log_dir='./logs/PilotNet', batch_size=32, write_images=True, histogram_freq=1)\n",
    "# Save the model according to the conditions\n",
    "checkpoint = ModelCheckpoint('PilotNet.h5', monitor='val_loss', verbose=1, save_best_only=True, save_weights_only=False, mode='auto', period=1)\n",
    "early = EarlyStopping(monitor='val_loss', min_delta=0, patience=2, verbose=1, mode='auto')\n",
    "\n",
    "model.fit_generator(train_generator, \n",
    "                    validation_data=validation_generator, \n",
    "                    epochs=10, \n",
    "                    callbacks=[tensorboard, checkpoint, early])"
   ]
  },
  {
   "cell_type": "markdown",
   "metadata": {},
   "source": [
    "## Xception - transfer learning model"
   ]
  },
  {
   "cell_type": "code",
   "execution_count": null,
   "metadata": {},
   "outputs": [],
   "source": [
    "from keras.applications import Xception\n",
    "from keras.models import Model\n",
    "from keras.layers import Dense, Flatten\n",
    "from keras.callbacks import ModelCheckpoint, EarlyStopping, TensorBoard\n",
    "\n",
    "img_width = 150\n",
    "img_height = 150\n",
    "\n",
    "model = Xception(weights='imagenet',\n",
    "                 include_top=False,\n",
    "                 input_shape=(img_height, img_width, 3))\n",
    "\n",
    "# Freeze all layers of pre-trained model\n",
    "for layer in model.layers:\n",
    "    layer.trainable = False\n",
    "\n",
    "x = model.output\n",
    "x = Flatten()(x)\n",
    "x = Dense(1024, activation='relu')(x)\n",
    "x = Dense(1)(x)  # Regression output layer\n",
    "\n",
    "model_final = Model(input=model.input, output=x)\n",
    "model_final.compile(loss='mse', optimizer='Nadam')\n",
    "\n",
    "# Save the model according to the conditions  \n",
    "checkpoint = ModelCheckpoint('Xception_steering.h5', monitor='val_acc', verbose=1, save_best_only=True, save_weights_only=False, mode='auto', period=1)\n",
    "early = EarlyStopping(monitor='val_acc', min_delta=0, patience=10, verbose=1, mode='auto')\n",
    "\n",
    "model_final.fit_generator(train_generator, \n",
    "                          samples_per_epoch=len(train_samples), \n",
    "                          validation_data=validation_generator,\n",
    "                          nb_val_samples=len(validation_samples), \n",
    "                          nb_epoch=10, \n",
    "                          callbacks=[checkpoint, early])"
   ]
  }
 ],
 "metadata": {
  "kernelspec": {
   "display_name": "Python 3",
   "language": "python",
   "name": "python3"
  },
  "language_info": {
   "codemirror_mode": {
    "name": "ipython",
    "version": 3
   },
   "file_extension": ".py",
   "mimetype": "text/x-python",
   "name": "python",
   "nbconvert_exporter": "python",
   "pygments_lexer": "ipython3",
   "version": "3.6.5"
  }
 },
 "nbformat": 4,
 "nbformat_minor": 1
}
